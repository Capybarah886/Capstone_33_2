{
 "cells": [
  {
   "cell_type": "code",
   "execution_count": 1,
   "metadata": {
    "id": "N5OA8Gp0wjYx"
   },
   "outputs": [
    {
     "ename": "ModuleNotFoundError",
     "evalue": "No module named 'google.colab'",
     "output_type": "error",
     "traceback": [
      "\u001b[1;31m---------------------------------------------------------------------------\u001b[0m",
      "\u001b[1;31mModuleNotFoundError\u001b[0m                       Traceback (most recent call last)",
      "Cell \u001b[1;32mIn[1], line 5\u001b[0m\n\u001b[0;32m      3\u001b[0m \u001b[38;5;28;01mfrom\u001b[39;00m \u001b[38;5;21;01mpydrive\u001b[39;00m\u001b[38;5;21;01m.\u001b[39;00m\u001b[38;5;21;01mauth\u001b[39;00m \u001b[38;5;28;01mimport\u001b[39;00m GoogleAuth\n\u001b[0;32m      4\u001b[0m \u001b[38;5;28;01mfrom\u001b[39;00m \u001b[38;5;21;01mpydrive\u001b[39;00m\u001b[38;5;21;01m.\u001b[39;00m\u001b[38;5;21;01mdrive\u001b[39;00m \u001b[38;5;28;01mimport\u001b[39;00m GoogleDrive\n\u001b[1;32m----> 5\u001b[0m \u001b[38;5;28;01mfrom\u001b[39;00m \u001b[38;5;21;01mgoogle\u001b[39;00m\u001b[38;5;21;01m.\u001b[39;00m\u001b[38;5;21;01mcolab\u001b[39;00m \u001b[38;5;28;01mimport\u001b[39;00m auth\n\u001b[0;32m      6\u001b[0m \u001b[38;5;28;01mfrom\u001b[39;00m \u001b[38;5;21;01moauth2client\u001b[39;00m\u001b[38;5;21;01m.\u001b[39;00m\u001b[38;5;21;01mclient\u001b[39;00m \u001b[38;5;28;01mimport\u001b[39;00m GoogleCredentials\n\u001b[0;32m      7\u001b[0m \u001b[38;5;66;03m# Authenticate and create the PyDrive client.\u001b[39;00m\n",
      "\u001b[1;31mModuleNotFoundError\u001b[0m: No module named 'google.colab'"
     ]
    }
   ],
   "source": [
    "!pip install -U -q PyDrive\n",
    "import os\n",
    "from pydrive.auth import GoogleAuth\n",
    "from pydrive.drive import GoogleDrive\n",
    "from google.colab import auth\n",
    "from oauth2client.client import GoogleCredentials\n",
    "# Authenticate and create the PyDrive client.\n",
    "auth.authenticate_user()\n",
    "gauth = GoogleAuth()\n",
    "gauth.credentials = GoogleCredentials.get_application_default()\n",
    "drive = GoogleDrive(gauth)\n",
    "\n",
    "# download the dataset\n",
    "exist = os.path.isfile(\"images.zip\")\n",
    "if not exist:\n",
    "    downloaded = drive.CreateFile({'id': '1WdIdX1zaQPBNkioARqaCkcbyIk_Is_1c'})\n",
    "    downloaded.GetContentFile('images.zip')\n",
    "    !unzip images.zip"
   ]
  },
  {
   "cell_type": "code",
   "execution_count": 2,
   "metadata": {
    "colab": {
     "base_uri": "https://localhost:8080/",
     "height": 69
    },
    "id": "OL0L47W0y-3u",
    "outputId": "647d0b33-bdf8-4430-eb39-3d8f88241a9d"
   },
   "outputs": [
    {
     "name": "stdout",
     "output_type": "stream",
     "text": [
      "Using matplotlib backend: <object object at 0x7f439b043bd0>\n",
      "Populating the interactive namespace from numpy and matplotlib\n"
     ]
    },
    {
     "data": {
      "application/vnd.google.colaboratory.intrinsic+json": {
       "type": "string"
      },
      "text/plain": [
       "'4.10.0'"
      ]
     },
     "execution_count": 2,
     "metadata": {},
     "output_type": "execute_result"
    }
   ],
   "source": [
    "%pylab\n",
    "import cv2\n",
    "from skimage import measure, draw\n",
    "from scipy import optimize, ndimage\n",
    "import matplotlib.pyplot as plt\n",
    "import imutils\n",
    "%matplotlib inline\n",
    "cv2.__version__"
   ]
  },
  {
   "cell_type": "code",
   "execution_count": 56,
   "metadata": {
    "id": "4Dn-Mn0l9Tf5"
   },
   "outputs": [],
   "source": [
    "path = 'Images/complex_background.jpg'"
   ]
  },
  {
   "cell_type": "code",
   "execution_count": 58,
   "metadata": {
    "colab": {
     "base_uri": "https://localhost:8080/"
    },
    "id": "DSHAArFOXU6R",
    "outputId": "650115ca-8721-4c2a-a954-468ab2a1e536"
   },
   "outputs": [
    {
     "name": "stdout",
     "output_type": "stream",
     "text": [
      "yes\n",
      "手掌与镜头夹角大小:  48.90801638788893\n"
     ]
    }
   ],
   "source": [
    "image = cv2.imread('Images/angle_between_len_hand.jpg')\n",
    "## 第一步，找到蓝色圆形\n",
    "hsv = cv2.cvtColor(image, cv2.COLOR_BGR2HSV)\n",
    "# 定义蓝色的HSV范围\n",
    "lower_light_blue = np.array([90, 100, 100])\n",
    "upper_light_blue = np.array([120, 255, 255])\n",
    "\n",
    "# 创建掩膜\n",
    "mask = cv2.inRange(hsv, lower_light_blue, upper_light_blue)\n",
    "# 寻找轮廓\n",
    "contours, _ = cv2.findContours(mask, cv2.RETR_EXTERNAL, cv2.CHAIN_APPROX_SIMPLE)\n",
    "\n",
    "## 第二步: 计算手掌与镜头夹角\n",
    "angle = 0\n",
    "for contour in contours:\n",
    "    if cv2.contourArea(contour) > 100:  # 过滤小轮廓\n",
    "        # 拟合椭圆\n",
    "        print(\"yes\")\n",
    "        ellipse = cv2.fitEllipse(contour)\n",
    "        (x, y), (MA, ma), angle = ellipse\n",
    "        angle = calculate_angle(ma, MA)\n",
    "\n",
    "print(\"手掌与镜头夹角大小: \", angle)"
   ]
  },
  {
   "cell_type": "code",
   "execution_count": 68,
   "metadata": {
    "id": "cgfPdLocyrt0"
   },
   "outputs": [],
   "source": [
    "import math\n",
    "import torch\n",
    "import torchvision\n",
    "\n",
    "\"\"\"\n",
    "该方法需要将蓝色表盘面朝上，与手掌一同拍摄，且手掌部分占据经可能多图片面积\n",
    "\"\"\"\n",
    "\n",
    "def calculate_angle(major_axis, minor_axis):\n",
    "    \"\"\"\n",
    "    计算手掌和镜头的夹角大小\n",
    "    :param major_axis: 椭圆的长轴长度\n",
    "    :param minor_axis: 椭圆的短轴长度\n",
    "    :return: 夹角（以度为单位）\n",
    "    \"\"\"\n",
    "    eccentricity = math.sqrt(1 - (minor_axis**2 / major_axis**2))\n",
    "    angle = math.asin(eccentricity)\n",
    "    angle_degrees = math.degrees(angle)\n",
    "    return angle_degrees\n",
    "\n",
    "\n",
    "def output_hand_area(img_path):\n",
    "\n",
    "    image = cv2.imread(img_path)\n",
    "\n",
    "    ## 第1步，找到蓝色圆形面积\n",
    "    hsv = cv2.cvtColor(image, cv2.COLOR_BGR2HSV)\n",
    "\n",
    "    # 定义蓝色的HSV范围\n",
    "    lower_light_blue = np.array([90, 100, 100])\n",
    "    upper_light_blue = np.array([120, 255, 255])\n",
    "\n",
    "    # 创建掩膜\n",
    "    mask = cv2.inRange(hsv, lower_light_blue, upper_light_blue)\n",
    "    # 寻找轮廓\n",
    "    contours, _ = cv2.findContours(mask, cv2.RETR_EXTERNAL, cv2.CHAIN_APPROX_SIMPLE)\n",
    "\n",
    "    circle_pixel_area = sum(mask != 0)\n",
    "    print(\"参照物像素面积: \", circle_pixel_area)\n",
    "\n",
    "    # ## 第二步: 计算手掌与镜头夹角\n",
    "    # angle = 0\n",
    "    # for contour in contours:\n",
    "    #     if cv2.contourArea(contour) > 100:  # 过滤小轮廓\n",
    "    #         # 拟合椭圆\n",
    "    #         ellipse = cv2.fitEllipse(contour)\n",
    "    #         (x, y), (MA, ma), angle = ellipse\n",
    "    #         angle = calculate_angle(ma, MA)\n",
    "\n",
    "    # print(\"手掌与镜头夹角大小: \", angle)\n",
    "\n",
    "    ## 第2步: 锐化图片\n",
    "    kernel = np.array([[-2, -1, 0],\n",
    "                           [-1, 1, 1],\n",
    "                           [0, 1, 2]])\n",
    "    filtered_image = cv2.filter2D(image, -1, kernel)\n",
    "\n",
    "    ## 第3步: 使用深度学习找到手掌位置\n",
    "    model = torchvision.models.detection.maskrcnn_resnet50_fpn(pretrained=True)\n",
    "    model.eval()\n",
    "\n",
    "    image_tensor = torchvision.transforms.ToTensor()(image)\n",
    "    image_tensor = image_tensor.unsqueeze(0)\n",
    "\n",
    "    # predict segmentation\n",
    "    with torch.no_grad():\n",
    "        predictions = model(image_tensor)\n",
    "\n",
    "    masks = predictions[0]['masks'].detach().cpu().numpy()\n",
    "    labels = predictions[0]['labels'].cpu().numpy()\n",
    "    scores = predictions[0]['scores'].cpu().numpy()\n",
    "\n",
    "    mask = masks[np.where(labels == 1)[0][0], 0]\n",
    "    # 检查结果\n",
    "    # masked_image = cv2.bitwise_and(image, image, mask=(mask < 0.5).astype(np.uint8))\n",
    "    # plt.imshow(masked_image)\n",
    "    # plt.show()\n",
    "    hand_pixel_area = sum(mask != 0)\n",
    "    print(\"手掌像素点面积: \", hand_pixel_area)\n",
    "\n",
    "    hand_real = int(7.07 / circle_pixel_area * hand_pixel_area)\n",
    "\n",
    "    print(\"手掌真实面积 : \", hand_real)\n",
    "\n",
    "    return hand_real"
   ]
  },
  {
   "cell_type": "code",
   "execution_count": 69,
   "metadata": {
    "colab": {
     "base_uri": "https://localhost:8080/"
    },
    "id": "4XTpZK6_d5hZ",
    "outputId": "537f48c2-3a6d-471f-92b8-6c77418b80d5"
   },
   "outputs": [
    {
     "name": "stdout",
     "output_type": "stream",
     "text": [
      "参照物像素面积:  2118\n",
      "手掌像素点面积:  78153\n",
      "手掌真实面积 :  260\n"
     ]
    },
    {
     "data": {
      "text/plain": [
       "260"
      ]
     },
     "execution_count": 69,
     "metadata": {},
     "output_type": "execute_result"
    }
   ],
   "source": [
    "path = \"Images/angle_between_len_hand.jpg\"\n",
    "output_hand_area(path)"
   ]
  },
  {
   "cell_type": "code",
   "execution_count": null,
   "metadata": {
    "id": "kBT8iYcUeXqC"
   },
   "outputs": [],
   "source": []
  }
 ],
 "metadata": {
  "colab": {
   "provenance": []
  },
  "kernelspec": {
   "display_name": "base",
   "language": "python",
   "name": "python3"
  },
  "language_info": {
   "codemirror_mode": {
    "name": "ipython",
    "version": 3
   },
   "file_extension": ".py",
   "mimetype": "text/x-python",
   "name": "python",
   "nbconvert_exporter": "python",
   "pygments_lexer": "ipython3",
   "version": "3.12.4"
  }
 },
 "nbformat": 4,
 "nbformat_minor": 0
}
